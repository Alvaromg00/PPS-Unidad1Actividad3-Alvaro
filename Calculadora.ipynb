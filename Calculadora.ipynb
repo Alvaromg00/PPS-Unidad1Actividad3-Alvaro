{
 "cells": [
  {
   "cell_type": "markdown",
   "id": "dc4b1f88-a665-4eec-98f5-27cb0d74ffb0",
   "metadata": {},
   "source": [
    "# Calculadora en Python"
   ]
  },
  {
   "cell_type": "code",
   "execution_count": 1,
   "id": "70333f0b-7176-41cf-912a-898affabfe86",
   "metadata": {},
   "outputs": [
    {
     "name": "stdout",
     "output_type": "stream",
     "text": [
      "Seleccione una operación:\n",
      "1. Suma\n",
      "2. Resta\n",
      "3. Multiplicación\n",
      "4. División\n",
      "5. Salir\n"
     ]
    },
    {
     "name": "stdin",
     "output_type": "stream",
     "text": [
      "Ingrese el número de la operación (1/2/3/4):  3\n",
      "Ingrese el primer número:  4\n",
      "Ingrese el segundo número:  10\n"
     ]
    },
    {
     "name": "stdout",
     "output_type": "stream",
     "text": [
      "Resultado: 40.0\n",
      "Seleccione una operación:\n",
      "1. Suma\n",
      "2. Resta\n",
      "3. Multiplicación\n",
      "4. División\n",
      "5. Salir\n"
     ]
    },
    {
     "name": "stdin",
     "output_type": "stream",
     "text": [
      "Ingrese el número de la operación (1/2/3/4):  5\n"
     ]
    },
    {
     "name": "stdout",
     "output_type": "stream",
     "text": [
      "Saliendo de la calculadora...\n"
     ]
    }
   ],
   "source": [
    "# Función calculadora\n",
    "def calculadora():\n",
    "    \n",
    "    obtenerOperacion()\n",
    "\n",
    "# Función para obtener el tipo de operación\n",
    "def obtenerOperacion():\n",
    "    while True:\n",
    "        print(\"Seleccione una operación:\")\n",
    "        print(\"1. Suma\")\n",
    "        print(\"2. Resta\")\n",
    "        print(\"3. Multiplicación\")\n",
    "        print(\"4. División\")\n",
    "        print(\"5. Salir\")\n",
    "        operacion = input(\"Ingrese el número de la operación (1/2/3/4): \")\n",
    "        \n",
    "        if operacion in ['1', '2', '3', '4']:\n",
    "            obtenerNumeros(operacion)\n",
    "        elif operacion == '5':\n",
    "            print(\"Saliendo de la calculadora...\")\n",
    "            break;\n",
    "        else:\n",
    "            print(\"Introduce una opción válida por favor!\")\n",
    "\n",
    "#Obtiene los números a operar\n",
    "def obtenerNumeros(operacion):\n",
    "    while True:\n",
    "        num1 = input(\"Ingrese el primer número: \")\n",
    "        if isNumber(num1):\n",
    "            num1 = float(num1)\n",
    "            while True:\n",
    "                num2 = input(\"Ingrese el segundo número: \")\n",
    "                if isNumber(num2):\n",
    "                    num2= float(num2)\n",
    "                    ejecutarOperacion(operacion, num1, num2)\n",
    "                    break;\n",
    "                else:\n",
    "                    print(\"Introduce un número!\")\n",
    "            break;\n",
    "        else:\n",
    "            print(\"Introduce un número!\")\n",
    "\n",
    "#Dependiendo de la operación introducida llama a la función correspondiente y le pasa los números introducidos\n",
    "def ejecutarOperacion(operacion, num1, num2):\n",
    "    if operacion == '1':\n",
    "        print(\"Resultado:\", suma(num1, num2))\n",
    "    elif operacion == '2':\n",
    "        print(\"Resultado:\", resta(num1, num2))\n",
    "    elif operacion == '3':\n",
    "        print(\"Resultado:\", multiplicacion(num1, num2))\n",
    "    elif operacion == '4':\n",
    "        print(\"Resultado:\", division(num1, num2))\n",
    "            \n",
    "# Función que suma los números\n",
    "def suma(a, b):\n",
    "    return a + b\n",
    "\n",
    "# Función que resta los números\n",
    "def resta(a, b):\n",
    "    return a - b;\n",
    "\n",
    "# Función que multiplica los números\n",
    "def multiplicacion(a, b):\n",
    "    return a * b\n",
    "\n",
    "# Función que divide los números\n",
    "def division(a, b):\n",
    "    if b == 0:\n",
    "        return \"Error: División por cero\"\n",
    "    return a / b\n",
    "\n",
    "# Verifica si el valor es un número (entero o flotante)\n",
    "def isNumber(valor):\n",
    "    try:\n",
    "        float(valor)  # Intentamos convertir el valor a float\n",
    "        return True\n",
    "    except ValueError:\n",
    "        return False\n",
    "\n",
    "if __name__ == \"__main__\":\n",
    "    calculadora()"
   ]
  },
  {
   "cell_type": "code",
   "execution_count": null,
   "id": "2c79e48c-b457-481d-9f3a-9f85953c8ef0",
   "metadata": {},
   "outputs": [],
   "source": []
  }
 ],
 "metadata": {
  "kernelspec": {
   "display_name": "Python 3 (ipykernel)",
   "language": "python",
   "name": "python3"
  },
  "language_info": {
   "codemirror_mode": {
    "name": "ipython",
    "version": 3
   },
   "file_extension": ".py",
   "mimetype": "text/x-python",
   "name": "python",
   "nbconvert_exporter": "python",
   "pygments_lexer": "ipython3",
   "version": "3.12.8"
  }
 },
 "nbformat": 4,
 "nbformat_minor": 5
}
