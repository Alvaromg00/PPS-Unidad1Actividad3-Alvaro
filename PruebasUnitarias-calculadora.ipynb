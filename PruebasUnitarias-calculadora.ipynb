{
 "cells": [
  {
   "cell_type": "markdown",
   "id": "430af730-3ca5-492c-a7d2-f03517f214d5",
   "metadata": {},
   "source": [
    "# Actividad3-UT1-Alvaro\n",
    "\n",
    "Aquí vamos a realizar las pruebas unitarias para las funciones de isNumber(), division() y multiplicacion()"
   ]
  },
  {
   "cell_type": "code",
   "execution_count": null,
   "id": "9f9f32fd-ac49-43e5-a3d5-8691ca0bc109",
   "metadata": {},
   "outputs": [],
   "source": []
  }
 ],
 "metadata": {
  "kernelspec": {
   "display_name": "Python 3 (ipykernel)",
   "language": "python",
   "name": "python3"
  },
  "language_info": {
   "codemirror_mode": {
    "name": "ipython",
    "version": 3
   },
   "file_extension": ".py",
   "mimetype": "text/x-python",
   "name": "python",
   "nbconvert_exporter": "python",
   "pygments_lexer": "ipython3",
   "version": "3.12.8"
  }
 },
 "nbformat": 4,
 "nbformat_minor": 5
}
