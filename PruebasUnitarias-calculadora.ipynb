{
 "cells": [
  {
   "cell_type": "markdown",
   "id": "430af730-3ca5-492c-a7d2-f03517f214d5",
   "metadata": {},
   "source": [
    "# Actividad3-UT1-Alvaro\n",
    "\n",
    "Aquí vamos a realizar las pruebas unitarias para las funciones de `isNumber()`, `division()` y `multiplicacion()` de ***Calculadora***, aqui dejo el código de la calculadora:"
   ]
  },
  {
   "cell_type": "code",
   "execution_count": 1,
   "id": "45caef25-de49-4895-97c3-6ac6f278d6dc",
   "metadata": {},
   "outputs": [
    {
     "name": "stdout",
     "output_type": "stream",
     "text": [
      "Seleccione una operación:\n",
      "1. Suma\n",
      "2. Resta\n",
      "3. Multiplicación\n",
      "4. División\n",
      "5. Salir\n"
     ]
    },
    {
     "name": "stdin",
     "output_type": "stream",
     "text": [
      "Ingrese el número de la operación (1/2/3/4):  5\n"
     ]
    },
    {
     "name": "stdout",
     "output_type": "stream",
     "text": [
      "Saliendo de la calculadora...\n"
     ]
    }
   ],
   "source": [
    "# Función calculadora\n",
    "def calculadora():\n",
    "    \n",
    "    obtenerOperacion()\n",
    "\n",
    "# Función para obtener el tipo de operación\n",
    "def obtenerOperacion():\n",
    "    while True:\n",
    "        print(\"Seleccione una operación:\")\n",
    "        print(\"1. Suma\")\n",
    "        print(\"2. Resta\")\n",
    "        print(\"3. Multiplicación\")\n",
    "        print(\"4. División\")\n",
    "        print(\"5. Salir\")\n",
    "        operacion = input(\"Ingrese el número de la operación (1/2/3/4): \")\n",
    "        \n",
    "        if operacion in ['1', '2', '3', '4']:\n",
    "            obtenerNumeros(operacion)\n",
    "        elif operacion == '5':\n",
    "            print(\"Saliendo de la calculadora...\")\n",
    "            break;\n",
    "        else:\n",
    "            print(\"Introduce una opción válida por favor!\")\n",
    "\n",
    "#Obtiene los números a operar\n",
    "def obtenerNumeros(operacion):\n",
    "    while True:\n",
    "        num1 = input(\"Ingrese el primer número: \")\n",
    "        if isNumber(num1):\n",
    "            num1 = float(num1)\n",
    "            while True:\n",
    "                num2 = input(\"Ingrese el segundo número: \")\n",
    "                if isNumber(num2):\n",
    "                    num2= float(num2)\n",
    "                    ejecutarOperacion(operacion, num1, num2)\n",
    "                    break;\n",
    "                else:\n",
    "                    print(\"Introduce un número!\")\n",
    "            break;\n",
    "        else:\n",
    "            print(\"Introduce un número!\")\n",
    "\n",
    "#Dependiendo de la operación introducida llama a la función correspondiente y le pasa los números introducidos\n",
    "def ejecutarOperacion(operacion, num1, num2):\n",
    "    if operacion == '1':\n",
    "        print(\"Resultado:\", suma(num1, num2))\n",
    "    elif operacion == '2':\n",
    "        print(\"Resultado:\", resta(num1, num2))\n",
    "    elif operacion == '3':\n",
    "        print(\"Resultado:\", multiplicacion(num1, num2))\n",
    "    elif operacion == '4':\n",
    "        print(\"Resultado:\", division(num1, num2))\n",
    "            \n",
    "# Función que suma los números\n",
    "def suma(a, b):\n",
    "    return a + b\n",
    "\n",
    "# Función que resta los números\n",
    "def resta(a, b):\n",
    "    return a - b;\n",
    "\n",
    "# Función que multiplica los números\n",
    "def multiplicacion(a, b):\n",
    "    return a * b\n",
    "\n",
    "# Función que divide los números\n",
    "def division(a, b):\n",
    "    if b == 0:\n",
    "        return \"Error: División por cero\"\n",
    "    return a / b\n",
    "\n",
    "# Verifica si el valor es un número (entero o flotante)\n",
    "def isNumber(valor):\n",
    "    try:\n",
    "        float(valor)  # Intentamos convertir el valor a float\n",
    "        return True\n",
    "    except ValueError:\n",
    "        return False\n",
    "\n",
    "if __name__ == \"__main__\":\n",
    "    calculadora()"
   ]
  },
  {
   "cell_type": "markdown",
   "id": "a2a64a77-6edc-4a9a-b734-2e4e9ffa7343",
   "metadata": {},
   "source": [
    "### Clases de equivalencia y valores límite de `isNumber()` y `division()`\n",
    "\n",
    "Partiendo de estas dos funciónes:"
   ]
  },
  {
   "cell_type": "code",
   "execution_count": null,
   "id": "9f9f32fd-ac49-43e5-a3d5-8691ca0bc109",
   "metadata": {},
   "outputs": [],
   "source": [
    "def isNumber(valor):\n",
    "    try:\n",
    "        float(valor)\n",
    "        return True\n",
    "    except ValueError:\n",
    "        return False\n",
    "\n",
    "def division(a, b):\n",
    "    if b <= 0:\n",
    "        return \"Error, el dividendo debe ser mayor a 0\"\n",
    "    return a / b"
   ]
  },
  {
   "cell_type": "markdown",
   "id": "fc94873b-7916-4d72-a46d-0cead38b2d0f",
   "metadata": {},
   "source": [
    "Vamos a identificar los posibles datos que pueden introducirse en las funciónes:\n",
    "\n",
    "* Número enteros\n",
    "    * Positivos\n",
    "    * Negativos\n",
    "    * Cero\n",
    "* Números reales(float)\n",
    "* Cadena de caracteres(string)\n",
    "* Booleanos\n",
    "\n",
    "\n",
    "Los valores límite de los números enteros en el valor inferior son:\n",
    "\n",
    "* 1\n",
    "* 0\n",
    "* -1\n",
    "\n",
    "Para las pruebas de caja negra también vamos a añadir una prueba con un numero entero muy grande y otro tipo `none`, con lo cual así quedan los test:\n",
    "\n",
    "### Caja negra `isNumber()`"
   ]
  },
  {
   "cell_type": "code",
   "execution_count": null,
   "id": "b5b441cf-c368-4f52-b594-9b1b6dd311b9",
   "metadata": {},
   "outputs": [],
   "source": [
    "import unittest\n",
    "import calculadora\n",
    "\n",
    "calc = calculadora\n",
    "\n",
    "class testIsNumberCajaNegra(unittest.TestCase):\n",
    "\n",
    "    def test_integer(self):\n",
    "        self.assertTrue(calc.isNumber(1))\n",
    "        self.assertTrue(calc.isNumber(-1))\n",
    "        self.assertTrue(calc.isNumber(0))\n",
    "        self.assertTrue(calc.isNumber(3))\n",
    "        \n",
    "    def test_great_integer(self):\n",
    "        self.assertTrue(calc.isNumber(9999999999999999999999999999999999999999999999999999999))\n",
    "\n",
    "    def test_float(self):\n",
    "        self.assertTrue(calc.isNumber(1.5))\n",
    "        self.assertTrue(calc.isNumber(-1.5))\n",
    "        self.assertTrue(calc.isNumber(-0))\n",
    "        self.assertTrue(calc.isNumber(0.00000000000000000000000000000000000000001))\n",
    "\n",
    "    def test_string_number(self):\n",
    "        self.assertTrue(calc.isNumber(\"2.5\"))\n",
    "        self.assertTrue(calc.isNumber(\"2\"))\n",
    "        self.assertTrue(calc.isNumber(\"0\"))\n",
    "\n",
    "    def test_string_non_number(self):\n",
    "        self.assertFalse(calc.isNumber(\"hola mundo\"))\n",
    "        self.assertFalse(calc.isNumber(\"\"))\n",
    "\n",
    "    def test_none(self):\n",
    "        with self.assertRaises(TypeError):\n",
    "            calc.isNumber(None)\n",
    "\n",
    "    def test_boolean(self):\n",
    "        self.assertTrue(calc.isNumber(True))\n",
    "        self.assertTrue(calc.isNumber(False))\n",
    "\n",
    "if __name__ == '__main__':\n",
    "    unittest.main()"
   ]
  },
  {
   "cell_type": "code",
   "execution_count": 1,
   "id": "b250365e-c68e-4136-ac9b-c8e6e2008ee9",
   "metadata": {},
   "outputs": [
    {
     "name": "stdout",
     "output_type": "stream",
     "text": [
      "test_boolean (test-caja-negra-isnumber.testIsNumberCajaNegra.test_boolean) ... ok\n",
      "test_float (test-caja-negra-isnumber.testIsNumberCajaNegra.test_float) ... ok\n",
      "test_great_integer (test-caja-negra-isnumber.testIsNumberCajaNegra.test_great_integer) ... ok\n",
      "test_integer (test-caja-negra-isnumber.testIsNumberCajaNegra.test_integer) ... ok\n",
      "test_none (test-caja-negra-isnumber.testIsNumberCajaNegra.test_none) ... ok\n",
      "test_string_non_number (test-caja-negra-isnumber.testIsNumberCajaNegra.test_string_non_number) ... ok\n",
      "test_string_number (test-caja-negra-isnumber.testIsNumberCajaNegra.test_string_number) ... ok\n",
      "\n",
      "----------------------------------------------------------------------\n",
      "Ran 7 tests in 0.000s\n",
      "\n",
      "OK\n"
     ]
    }
   ],
   "source": [
    "!python3 -m unittest -v test-caja-negra-isnumber.py"
   ]
  },
  {
   "cell_type": "markdown",
   "id": "bdc6281d-b6f0-4123-84b5-7d2b25647c98",
   "metadata": {},
   "source": [
    "### Caja negra `division()`"
   ]
  },
  {
   "cell_type": "code",
   "execution_count": null,
   "id": "3ddd4788-ffdd-4005-8258-7f1da32dae76",
   "metadata": {},
   "outputs": [],
   "source": [
    "import unittest\n",
    "import calculadora\n",
    "\n",
    "calc = calculadora\n",
    "\n",
    "class testDivisionCajaNegra(unittest.TestCase):\n",
    "\n",
    "    def test_division_normal(self):\n",
    "        self.assertEqual(calc.division(10, 2), 5)\n",
    "        self.assertEqual(calc.division(9, 3), 3)\n",
    "        self.assertEqual(calc.division(-10, 2), -5)\n",
    "        self.assertEqual(calc.division(10, -2), -5)\n",
    "        self.assertEqual(calc.division(-10, -2), 5)\n",
    "\n",
    "    def test_division_decimal(self):\n",
    "        self.assertAlmostEqual(calc.division(10, 3), 10 / 3)  # Resultado aproximado\n",
    "        self.assertAlmostEqual(calc.division(1.5, 0.5), 3.0)\n",
    "\n",
    "    def test_division_divisor_cero(self):\n",
    "        self.assertEqual(calc.division(10, 0), \"Error: División por cero\")\n",
    "\n",
    "    def test_division_dividendo_cero(self):\n",
    "        self.assertEqual(calc.division(0, 10), 0)\n",
    "        self.assertEqual(calc.division(0, -5), 0)\n",
    "        self.assertEqual(calc.division(0, 0.5), 0)\n",
    "\n",
    "if __name__ == '__main__':\n",
    "    unittest.main()"
   ]
  },
  {
   "cell_type": "code",
   "execution_count": 2,
   "id": "388b996e-034f-4938-8bc2-f87b0ac385c4",
   "metadata": {},
   "outputs": [
    {
     "name": "stdout",
     "output_type": "stream",
     "text": [
      "test_division_decimal (test-caja-negra-division.testDivisionCajaNegra.test_division_decimal) ... ok\n",
      "test_division_dividendo_cero (test-caja-negra-division.testDivisionCajaNegra.test_division_dividendo_cero) ... ok\n",
      "test_division_divisor_cero (test-caja-negra-division.testDivisionCajaNegra.test_division_divisor_cero) ... ok\n",
      "test_division_normal (test-caja-negra-division.testDivisionCajaNegra.test_division_normal) ... ok\n",
      "\n",
      "----------------------------------------------------------------------\n",
      "Ran 4 tests in 0.000s\n",
      "\n",
      "OK\n"
     ]
    }
   ],
   "source": [
    "!python3 -m unittest -v test-caja-negra-division.py"
   ]
  },
  {
   "cell_type": "markdown",
   "id": "a0fb41fd-c5ab-41a4-8fbc-608ffe294ac0",
   "metadata": {},
   "source": [
    "Vamos a realizar las pruebas de caja blanca para las funciones de isNumber(), division() y multiplicacion().\n",
    "\n",
    "Lo primero es crear el grafo de flujo asociado a cada función, vamos a emprezar con isNumber()\n",
    "\n",
    "### Caja blanca `isNumber()`\n",
    "\n",
    "#### **Grafo de flujo:**"
   ]
  },
  {
   "cell_type": "code",
   "execution_count": null,
   "id": "800d538e-7905-43b0-854d-bbc2f805694c",
   "metadata": {},
   "outputs": [],
   "source": [
    "graph TD;\n",
    "INICIO-->try: float(valor);\n",
    "TRY-->Exitoso-->Return True;\n",
    "TRY-->Error-->except ValueError\n",
    "EXCEPT-->return False;\n",
    "return True-->FIN;\n",
    "return False-->FIN;"
   ]
  },
  {
   "cell_type": "markdown",
   "id": "b0baae81-5575-42a9-88f1-9c7c5a40a413",
   "metadata": {},
   "source": [
    "#### **Test caja blanca:**"
   ]
  },
  {
   "cell_type": "code",
   "execution_count": null,
   "id": "ea6eba1f-5c1c-410a-b166-081ca4d0e24e",
   "metadata": {},
   "outputs": [],
   "source": [
    "import unittest\n",
    "import calculadora\n",
    "\n",
    "calc = calculadora\n",
    "\n",
    "class testIsNumberCajaBlanca(unittest.TestCase):\n",
    "\n",
    "        def test_try(self):\n",
    "                self.assertTrue(calc.isNumber(2))\n",
    "                self.assertTrue(calc.isNumber(4))\n",
    "\n",
    "        def test_except(self):\n",
    "                self.assertFalse(calc.isNumber(\"1,12\"))\n",
    "                self.assertFalse(calc.isNumber(\"-3,4\"))\n",
    "\n",
    "if __name__ == '__main__':\n",
    "    unittest.main()"
   ]
  },
  {
   "cell_type": "code",
   "execution_count": 7,
   "id": "80fadefc-1ac3-4d29-8892-f68982b0800d",
   "metadata": {},
   "outputs": [
    {
     "name": "stdout",
     "output_type": "stream",
     "text": [
      "test_except (test-caja-blanca-isnumber.testIsNumberCajaBlanca.test_except) ... ok\n",
      "test_try (test-caja-blanca-isnumber.testIsNumberCajaBlanca.test_try) ... ok\n",
      "\n",
      "----------------------------------------------------------------------\n",
      "Ran 2 tests in 0.000s\n",
      "\n",
      "OK\n"
     ]
    }
   ],
   "source": [
    "!python3 -m unittest -v test-caja-blanca-isnumber.py"
   ]
  },
  {
   "cell_type": "markdown",
   "id": "8d957429-ef68-444b-9df0-5ada834e7b0d",
   "metadata": {},
   "source": [
    "### Caja blanca `division()`\n",
    "\n",
    "#### **Grafo de flujo**:"
   ]
  },
  {
   "cell_type": "code",
   "execution_count": null,
   "id": "c6f40f1a-c620-4f95-86ec-07ec93fbf528",
   "metadata": {},
   "outputs": [],
   "source": [
    "graph TD;\n",
    "INICIO-->if b <= 0\n",
    "INICIO-->else return a / b\n",
    "FIN-->return \"Error, el dividendo debe ser mayor a 0\"\n",
    "FIN-->return a / b"
   ]
  },
  {
   "cell_type": "markdown",
   "id": "66eac56b-54e3-48a8-a4bd-1c68e8c0c496",
   "metadata": {},
   "source": [
    "#### **Test caja blanca**:"
   ]
  },
  {
   "cell_type": "code",
   "execution_count": null,
   "id": "b8e0f632-d24a-4b79-bea2-c47b3a58bdb6",
   "metadata": {},
   "outputs": [],
   "source": [
    "import unittest\n",
    "import calculadora\n",
    "\n",
    "calc = calculadora\n",
    "\n",
    "class testDivisionCajaBlanca(unittest.TestCase):\n",
    "\n",
    "        def test_if(self):\n",
    "                self.assertEqual(calc.division(4,2),2)\n",
    "                self.assertEqual(calc.division(9,3),3)\n",
    "\n",
    "        def test_else(self):\n",
    "                self.assertEqual(calc.division(5,0), \"Error, el dividendo debe ser mayor a 0\")\n",
    "                self.assertEqual(calc.division(3,-1), \"Error, el dividendo debe ser mayor a 0\")\n",
    "\n",
    "if __name__ == '__main__':\n",
    "    unittest.main()\n"
   ]
  },
  {
   "cell_type": "code",
   "execution_count": 11,
   "id": "2f41ca63-530c-4856-9654-3e922ce75412",
   "metadata": {},
   "outputs": [
    {
     "name": "stdout",
     "output_type": "stream",
     "text": [
      "test_else (test-caja-blanca-division.testDivisionCajaBlanca.test_else) ... ok\n",
      "test_if (test-caja-blanca-division.testDivisionCajaBlanca.test_if) ... ok\n",
      "\n",
      "----------------------------------------------------------------------\n",
      "Ran 2 tests in 0.000s\n",
      "\n",
      "OK\n"
     ]
    }
   ],
   "source": [
    "!python3 -m unittest -v test-caja-blanca-division.py"
   ]
  },
  {
   "cell_type": "markdown",
   "id": "cfd5c395-2493-4802-81b5-4a7de54968e8",
   "metadata": {},
   "source": [
    "### Caja blanca `multiplicacion()`\n",
    "\n",
    "Para esta función:"
   ]
  },
  {
   "cell_type": "code",
   "execution_count": null,
   "id": "2ac995f5-f5b0-4f49-bf40-12005366637a",
   "metadata": {},
   "outputs": [],
   "source": [
    "def multiplicacion(a, b):\n",
    "    return a * b"
   ]
  },
  {
   "cell_type": "markdown",
   "id": "71e8c433-46ce-4205-bae6-8dd9b79cd708",
   "metadata": {},
   "source": [
    "#### **Grafo de flujo**:"
   ]
  },
  {
   "cell_type": "code",
   "execution_count": null,
   "id": "0c0f13a6-8b5a-4398-a8ba-ab6c5a06000b",
   "metadata": {},
   "outputs": [],
   "source": [
    "graph TD;\n",
    "INICIO/FIN-->a * b"
   ]
  },
  {
   "cell_type": "markdown",
   "id": "85e81d2f-3ff0-47a8-82d1-4b7fb41c7dd8",
   "metadata": {},
   "source": [
    "#### **Test caja blanca**:"
   ]
  },
  {
   "cell_type": "code",
   "execution_count": null,
   "id": "829b9826-022f-45ec-b3c6-2978d2a19fe3",
   "metadata": {},
   "outputs": [],
   "source": [
    "import unittest\n",
    "import calculadora\n",
    "\n",
    "calc = calculadora\n",
    "\n",
    "class testMultiplicacionCajaBlanca(unittest.TestCase):\n",
    "\n",
    "        def test_multiplicacion(self):\n",
    "                self.assertEqual(calc.multiplicacion(5,3),15)\n",
    "                self.assertEqual(calc.multiplicacion(2,3.5),7)\n",
    "\n",
    "if __name__ == '__main__':\n",
    "    unittest.main()\n"
   ]
  },
  {
   "cell_type": "code",
   "execution_count": 12,
   "id": "d75ac741-8a92-4b3a-9c14-04ab2647bea5",
   "metadata": {},
   "outputs": [
    {
     "name": "stdout",
     "output_type": "stream",
     "text": [
      "test_multiplicacion (test-caja-blanca-multiplicacion.testMultiplicacionCajaBlanca.test_multiplicacion) ... ok\n",
      "\n",
      "----------------------------------------------------------------------\n",
      "Ran 1 test in 0.000s\n",
      "\n",
      "OK\n"
     ]
    }
   ],
   "source": [
    "!python3 -m unittest -v test-caja-blanca-multiplicacion.py"
   ]
  }
 ],
 "metadata": {
  "kernelspec": {
   "display_name": "Python 3 (ipykernel)",
   "language": "python",
   "name": "python3"
  },
  "language_info": {
   "codemirror_mode": {
    "name": "ipython",
    "version": 3
   },
   "file_extension": ".py",
   "mimetype": "text/x-python",
   "name": "python",
   "nbconvert_exporter": "python",
   "pygments_lexer": "ipython3",
   "version": "3.12.8"
  }
 },
 "nbformat": 4,
 "nbformat_minor": 5
}
