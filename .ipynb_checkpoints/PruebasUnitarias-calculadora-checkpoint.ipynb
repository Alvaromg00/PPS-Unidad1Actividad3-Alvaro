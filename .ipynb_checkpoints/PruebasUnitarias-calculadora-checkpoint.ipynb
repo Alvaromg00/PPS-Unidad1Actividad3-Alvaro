{
 "cells": [
  {
   "cell_type": "markdown",
   "id": "430af730-3ca5-492c-a7d2-f03517f214d5",
   "metadata": {},
   "source": [
    "# Actividad3-UT1-Alvaro\n",
    "\n",
    "Aquí vamos a realizar las pruebas unitarias para las funciones de isNumber(), division() y multiplicacion() de Calculadora, aqui dejo el código de la calculadora:"
   ]
  },
  {
   "cell_type": "code",
   "execution_count": 1,
   "id": "45caef25-de49-4895-97c3-6ac6f278d6dc",
   "metadata": {},
   "outputs": [
    {
     "name": "stdout",
     "output_type": "stream",
     "text": [
      "Seleccione una operación:\n",
      "1. Suma\n",
      "2. Resta\n",
      "3. Multiplicación\n",
      "4. División\n",
      "5. Salir\n"
     ]
    },
    {
     "name": "stdin",
     "output_type": "stream",
     "text": [
      "Ingrese el número de la operación (1/2/3/4):  5\n"
     ]
    },
    {
     "name": "stdout",
     "output_type": "stream",
     "text": [
      "Saliendo de la calculadora...\n"
     ]
    }
   ],
   "source": [
    "# Función calculadora\n",
    "def calculadora():\n",
    "    \n",
    "    obtenerOperacion()\n",
    "\n",
    "# Función para obtener el tipo de operación\n",
    "def obtenerOperacion():\n",
    "    while True:\n",
    "        print(\"Seleccione una operación:\")\n",
    "        print(\"1. Suma\")\n",
    "        print(\"2. Resta\")\n",
    "        print(\"3. Multiplicación\")\n",
    "        print(\"4. División\")\n",
    "        print(\"5. Salir\")\n",
    "        operacion = input(\"Ingrese el número de la operación (1/2/3/4): \")\n",
    "        \n",
    "        if operacion in ['1', '2', '3', '4']:\n",
    "            obtenerNumeros(operacion)\n",
    "        elif operacion == '5':\n",
    "            print(\"Saliendo de la calculadora...\")\n",
    "            break;\n",
    "        else:\n",
    "            print(\"Introduce una opción válida por favor!\")\n",
    "\n",
    "#Obtiene los números a operar\n",
    "def obtenerNumeros(operacion):\n",
    "    while True:\n",
    "        num1 = input(\"Ingrese el primer número: \")\n",
    "        if isNumber(num1):\n",
    "            num1 = float(num1)\n",
    "            while True:\n",
    "                num2 = input(\"Ingrese el segundo número: \")\n",
    "                if isNumber(num2):\n",
    "                    num2= float(num2)\n",
    "                    ejecutarOperacion(operacion, num1, num2)\n",
    "                    break;\n",
    "                else:\n",
    "                    print(\"Introduce un número!\")\n",
    "            break;\n",
    "        else:\n",
    "            print(\"Introduce un número!\")\n",
    "\n",
    "#Dependiendo de la operación introducida llama a la función correspondiente y le pasa los números introducidos\n",
    "def ejecutarOperacion(operacion, num1, num2):\n",
    "    if operacion == '1':\n",
    "        print(\"Resultado:\", suma(num1, num2))\n",
    "    elif operacion == '2':\n",
    "        print(\"Resultado:\", resta(num1, num2))\n",
    "    elif operacion == '3':\n",
    "        print(\"Resultado:\", multiplicacion(num1, num2))\n",
    "    elif operacion == '4':\n",
    "        print(\"Resultado:\", division(num1, num2))\n",
    "            \n",
    "# Función que suma los números\n",
    "def suma(a, b):\n",
    "    return a + b\n",
    "\n",
    "# Función que resta los números\n",
    "def resta(a, b):\n",
    "    return a - b;\n",
    "\n",
    "# Función que multiplica los números\n",
    "def multiplicacion(a, b):\n",
    "    return a * b\n",
    "\n",
    "# Función que divide los números\n",
    "def division(a, b):\n",
    "    if b == 0:\n",
    "        return \"Error: División por cero\"\n",
    "    return a / b\n",
    "\n",
    "# Verifica si el valor es un número (entero o flotante)\n",
    "def isNumber(valor):\n",
    "    try:\n",
    "        float(valor)  # Intentamos convertir el valor a float\n",
    "        return True\n",
    "    except ValueError:\n",
    "        return False\n",
    "\n",
    "if __name__ == \"__main__\":\n",
    "    calculadora()"
   ]
  },
  {
   "cell_type": "markdown",
   "id": "a2a64a77-6edc-4a9a-b734-2e4e9ffa7343",
   "metadata": {},
   "source": [
    "### Clases de equivalencia y valores límite de isNumber()\n",
    "\n",
    "Partiendo de estas dos funciónes:"
   ]
  },
  {
   "cell_type": "code",
   "execution_count": null,
   "id": "9f9f32fd-ac49-43e5-a3d5-8691ca0bc109",
   "metadata": {},
   "outputs": [],
   "source": [
    "def isNumber(valor):\n",
    "    try:\n",
    "        float(valor)\n",
    "        return True\n",
    "    except ValueError:\n",
    "        return False\n",
    "\n",
    "def division(a, b):\n",
    "    if b == 0:\n",
    "        return \"Error: División por cero\"\n",
    "    return a / b"
   ]
  },
  {
   "cell_type": "markdown",
   "id": "fc94873b-7916-4d72-a46d-0cead38b2d0f",
   "metadata": {},
   "source": [
    "Vamos a identificar los posibles datos que pueden introducirse en las funciónes:\n",
    "\n",
    "* Número enteros\n",
    "    * Positivos\n",
    "    * Negativos\n",
    "    * Cero\n",
    "* Números reales(float)\n",
    "* Cadena de caracteres(string)\n",
    "* Booleanos\n",
    "\n",
    "\n",
    "Los valores límite de los números enteros en el valor inferior son:\n",
    "\n",
    "* 1\n",
    "* 0\n",
    "* -1\n",
    "\n",
    "Para las pruebas de caja negra también vamos a añadir una prueba con un numero entero muy grande y otro tipo `none`, con lo cual así quedan los test:"
   ]
  },
  {
   "cell_type": "code",
   "execution_count": null,
   "id": "b5b441cf-c368-4f52-b594-9b1b6dd311b9",
   "metadata": {},
   "outputs": [],
   "source": [
    "import unittest\n",
    "import calculadora\n",
    "\n",
    "calc = calculadora\n",
    "\n",
    "class testIsNumberCajaNegra(unittest.TestCase):\n",
    "\n",
    "    def test_integer(self):\n",
    "        self.assertTrue(calc.isNumber(1))\n",
    "        self.assertTrue(calc.isNumber(-1))\n",
    "        self.assertTrue(calc.isNumber(0))\n",
    "        self.assertTrue(calc.isNumber(3))\n",
    "        \n",
    "    def test_great_integer(self):\n",
    "        self.assertTrue(calc.isNumber(9999999999999999999999999999999999999999999999999999999))\n",
    "\n",
    "    def test_float(self):\n",
    "        self.assertTrue(calc.isNumber(1.5))\n",
    "        self.assertTrue(calc.isNumber(-1.5))\n",
    "        self.assertTrue(calc.isNumber(-0))\n",
    "        self.assertTrue(calc.isNumber(0.00000000000000000000000000000000000000001))\n",
    "\n",
    "    def test_string_number(self):\n",
    "        self.assertTrue(calc.isNumber(\"2.5\"))\n",
    "        self.assertTrue(calc.isNumber(\"2\"))\n",
    "        self.assertTrue(calc.isNumber(\"0\"))\n",
    "\n",
    "    def test_string_non_number(self):\n",
    "        self.assertFalse(calc.isNumber(\"hola mundo\"))\n",
    "        self.assertFalse(calc.isNumber(\"\"))\n",
    "\n",
    "    def test_none(self):\n",
    "        with self.assertRaises(TypeError):\n",
    "            calc.isNumber(None)\n",
    "\n",
    "    def test_boolean(self):\n",
    "        self.assertTrue(calc.isNumber(True))\n",
    "        self.assertTrue(calc.isNumber(False))\n",
    "\n",
    "if __name__ == '__main__':\n",
    "    unittest.main()"
   ]
  },
  {
   "cell_type": "code",
   "execution_count": 19,
   "id": "b250365e-c68e-4136-ac9b-c8e6e2008ee9",
   "metadata": {},
   "outputs": [
    {
     "name": "stdout",
     "output_type": "stream",
     "text": [
      "test_boolean (test-calculadora.testIsNumberCajaNegra.test_boolean) ... ok\n",
      "test_float (test-calculadora.testIsNumberCajaNegra.test_float) ... ok\n",
      "test_great_integer (test-calculadora.testIsNumberCajaNegra.test_great_integer) ... ok\n",
      "test_integer (test-calculadora.testIsNumberCajaNegra.test_integer) ... ok\n",
      "test_none (test-calculadora.testIsNumberCajaNegra.test_none) ... ok\n",
      "test_string_non_number (test-calculadora.testIsNumberCajaNegra.test_string_non_number) ... ok\n",
      "test_string_number (test-calculadora.testIsNumberCajaNegra.test_string_number) ... ok\n",
      "\n",
      "----------------------------------------------------------------------\n",
      "Ran 7 tests in 0.000s\n",
      "\n",
      "OK\n"
     ]
    }
   ],
   "source": [
    "!python3 -m unittest -v test-calculadora.py"
   ]
  },
  {
   "cell_type": "code",
   "execution_count": null,
   "id": "3ddd4788-ffdd-4005-8258-7f1da32dae76",
   "metadata": {},
   "outputs": [],
   "source": [
    "import unittest\n",
    "import calculadora\n",
    "\n",
    "calc = calculadora\n",
    "\n",
    "class testDivisionCajaNegra(unittest.TestCase):\n",
    "\n",
    "    def test_division_normal(self):\n",
    "        self.assertEqual(calc.division(10, 2), 5)\n",
    "        self.assertEqual(calc.division(9, 3), 3)\n",
    "        self.assertEqual(calc.division(-10, 2), -5)\n",
    "        self.assertEqual(calc.division(10, -2), -5)\n",
    "        self.assertEqual(calc.division(-10, -2), 5)\n",
    "\n",
    "    def test_division_decimal(self):\n",
    "        self.assertAlmostEqual(calc.division(10, 3), 10 / 3)  # Resultado aproximado\n",
    "        self.assertAlmostEqual(calc.division(1.5, 0.5), 3.0)\n",
    "\n",
    "    def test_division_zero_divisor(self):\n",
    "        self.assertEqual(calc.division(10, 0), \"Error: División por cero\")\n",
    "\n",
    "    def test_division_zero_dividend(self):\n",
    "        self.assertEqual(calc.division(0, 10), 0)\n",
    "        self.assertEqual(calc.division(0, -5), 0)\n",
    "        self.assertEqual(calc.division(0, 0.5), 0)\n",
    "\n",
    "if __name__ == '__main__':\n",
    "    unittest.main()\n"
   ]
  },
  {
   "cell_type": "code",
   "execution_count": null,
   "id": "388b996e-034f-4938-8bc2-f87b0ac385c4",
   "metadata": {},
   "outputs": [],
   "source": []
  },
  {
   "cell_type": "code",
   "execution_count": null,
   "id": "fa85f539-0a6c-4ff6-8ed6-fff0d1d0f8c1",
   "metadata": {},
   "outputs": [],
   "source": []
  }
 ],
 "metadata": {
  "kernelspec": {
   "display_name": "Python 3 (ipykernel)",
   "language": "python",
   "name": "python3"
  },
  "language_info": {
   "codemirror_mode": {
    "name": "ipython",
    "version": 3
   },
   "file_extension": ".py",
   "mimetype": "text/x-python",
   "name": "python",
   "nbconvert_exporter": "python",
   "pygments_lexer": "ipython3",
   "version": "3.12.8"
  }
 },
 "nbformat": 4,
 "nbformat_minor": 5
}
